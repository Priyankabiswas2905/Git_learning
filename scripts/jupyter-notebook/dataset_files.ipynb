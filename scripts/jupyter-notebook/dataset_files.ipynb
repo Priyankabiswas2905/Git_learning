{
 "cells": [
  {
   "cell_type": "code",
   "execution_count": null,
   "metadata": {},
   "outputs": [],
   "source": [
    "import requests\n",
    "import json"
   ]
  },
  {
   "cell_type": "markdown",
   "metadata": {},
   "source": [
    "## Configuration"
   ]
  },
  {
   "cell_type": "code",
   "execution_count": null,
   "metadata": {},
   "outputs": [],
   "source": [
    "auth = ('your username','your password')\n",
    "headers = {'Content-type': 'application/json', 'accept': 'application/json'}"
   ]
  },
  {
   "cell_type": "markdown",
   "metadata": {},
   "source": [
    "# Dataset"
   ]
  },
  {
   "cell_type": "markdown",
   "metadata": {},
   "source": [
    "### list datasets"
   ]
  },
  {
   "cell_type": "code",
   "execution_count": null,
   "metadata": {},
   "outputs": [],
   "source": [
    "def list_datasets():\n",
    "    r = requests.get('https://clowderframework.org/clowder/api/datasets', \n",
    "                     auth=auth)\n",
    "    print(r.status_code)\n",
    "    print(r.text)"
   ]
  },
  {
   "cell_type": "code",
   "execution_count": null,
   "metadata": {},
   "outputs": [],
   "source": [
    "list_datasets()"
   ]
  },
  {
   "cell_type": "markdown",
   "metadata": {},
   "source": [
    "### create dataset"
   ]
  },
  {
   "cell_type": "code",
   "execution_count": null,
   "metadata": {},
   "outputs": [],
   "source": [
    "def create_dataset(name, description, access, space, collection):\n",
    "    '''\n",
    "     params: name, description, access: PUBLIC vs PRIVATE, \n",
    "         space: a list of string can be empty,\n",
    "         collection: a list of string, can be empty\n",
    "    '''\n",
    "\n",
    "    payload = json.dumps({'name':name, \n",
    "                          'description':description,\n",
    "                          'access':access,\n",
    "                          'space':space,\n",
    "                          'collection':collection}) \n",
    "\n",
    "    r = requests.post('https://clowderframework.org/clowder/api/datasets/createempty',\n",
    "                     data=payload,\n",
    "                     headers=headers,\n",
    "                     auth=auth)\n",
    "    print(r.status_code)\n",
    "    print(r.text)"
   ]
  },
  {
   "cell_type": "code",
   "execution_count": null,
   "metadata": {},
   "outputs": [],
   "source": [
    "create_dataset(name=\"new dataset\", description=\"...\", access=\"PRIVATE\", \n",
    "               space=['5a7c84a04f0cb43c8e37e206','5a3bef1c4f0cc6f36475b122'],\n",
    "              collection=['5a7c811b4f0cb43c8e37e1df'])"
   ]
  },
  {
   "cell_type": "markdown",
   "metadata": {},
   "source": [
    "### edit the description for the dataset"
   ]
  },
  {
   "cell_type": "code",
   "execution_count": null,
   "metadata": {},
   "outputs": [],
   "source": [
    "def edit_dataset_description(dataset_id, description):\n",
    "\n",
    "    payload = json.dumps({'description':description})\n",
    "    \n",
    "    r = requests.put('https://clowderframework.org/clowder/api/datasets/'\n",
    "                     + dataset_id +'/description',\n",
    "                     data=payload,\n",
    "                     headers=headers,\n",
    "                     auth=auth)\n",
    "    print(r.status_code)\n",
    "    print(r.text)"
   ]
  },
  {
   "cell_type": "code",
   "execution_count": null,
   "metadata": {},
   "outputs": [],
   "source": [
    "edit_dataset_description('5aac36954f0cc56d89e141b8', 'new description')"
   ]
  },
  {
   "cell_type": "markdown",
   "metadata": {},
   "source": [
    "### edit the dataset name"
   ]
  },
  {
   "cell_type": "code",
   "execution_count": null,
   "metadata": {},
   "outputs": [],
   "source": [
    "def edit_dataset_name(dataset_id, name):\n",
    "\n",
    "    payload = json.dumps({'name': name})\n",
    "    r = requests.put('https://clowderframework.org/clowder/api/datasets/' + dataset_id +'/title',\n",
    "                     data=payload,\n",
    "                     headers=headers,\n",
    "                     auth=auth)\n",
    "    print(r.status_code)\n",
    "    print(r.text)"
   ]
  },
  {
   "cell_type": "code",
   "execution_count": null,
   "metadata": {},
   "outputs": [],
   "source": [
    "edit_dataset_name('5aac36954f0cc56d89e141b8','new name')"
   ]
  },
  {
   "cell_type": "markdown",
   "metadata": {},
   "source": [
    "### add tags to the dataset"
   ]
  },
  {
   "cell_type": "code",
   "execution_count": null,
   "metadata": {},
   "outputs": [],
   "source": [
    "def add_tags_to_dataset(dataset_id, tags):\n",
    "    \n",
    "    payload = json.dumps({'tags':tags})\n",
    "    r = requests.post('https://clowderframework.org/clowder/api/datasets/' + dataset_id +'/tags',\n",
    "                     data=payload,\n",
    "                     headers=headers,\n",
    "                     auth=auth)\n",
    "    print(r.status_code)\n",
    "    print(r.text)"
   ]
  },
  {
   "cell_type": "code",
   "execution_count": null,
   "metadata": {},
   "outputs": [],
   "source": [
    "add_tags_to_dataset('5aac36954f0cc56d89e141b8',['tag1','tag2','tag3'])"
   ]
  },
  {
   "cell_type": "markdown",
   "metadata": {},
   "source": [
    "### add user metadata to dataset"
   ]
  },
  {
   "cell_type": "code",
   "execution_count": null,
   "metadata": {},
   "outputs": [],
   "source": [
    "def add_metadata_to_dataset(dataset_id, metadata):\n",
    "    '''\n",
    "        metadata can be any key-value pair\n",
    "        default metadat: Audience, CSDMS Standard Name, Date and Time, Funding Institution, \n",
    "            GeoJSON, Grant Number, ODM2 Variable Name, Primary/Initial Publication, Principal Investigator(s),\n",
    "            References, Related Publications, SAS Spatial Geocode, SAS Variable Name, Time Periods, Unit\n",
    "    '''\n",
    "    \n",
    "    payload = json.dumps(metadata)\n",
    "    r = requests.post('https://clowderframework.org/clowder/api/datasets/' + dataset_id +'/metadata',\n",
    "                     data=payload,\n",
    "                     headers=headers,\n",
    "                     auth=auth)\n",
    "    print(r.status_code)\n",
    "    print(r.text)"
   ]
  },
  {
   "cell_type": "code",
   "execution_count": null,
   "metadata": {},
   "outputs": [],
   "source": [
    "add_metadata_to_dataset('5aac36954f0cc56d89e141b8', {'time':'now','author':'chen','email':'cwang138@illinois.edu'})"
   ]
  },
  {
   "cell_type": "markdown",
   "metadata": {},
   "source": [
    "### delete dataset (careful!)"
   ]
  },
  {
   "cell_type": "code",
   "execution_count": null,
   "metadata": {},
   "outputs": [],
   "source": [
    "def delete_dtaset(dataset_id):\n",
    "    r = requests.delete('https://clowderframework.org/clowder/api/datasets/'+ dataset_id,\n",
    "                        auth=auth)\n",
    "    print(r.status_code)\n",
    "    print(r.text)"
   ]
  },
  {
   "cell_type": "code",
   "execution_count": null,
   "metadata": {},
   "outputs": [],
   "source": [
    "delete_dtaset('5aabd0354f0cc56d89e13d39')"
   ]
  },
  {
   "cell_type": "markdown",
   "metadata": {},
   "source": [
    "# Files"
   ]
  },
  {
   "cell_type": "markdown",
   "metadata": {},
   "source": [
    "### upload files to that dataset (through url)"
   ]
  },
  {
   "cell_type": "code",
   "execution_count": null,
   "metadata": {},
   "outputs": [],
   "source": [
    "def upload_files_to_dataset(dataset_id, url):\n",
    "    payload = json.dumps({'url':url})\n",
    "    r = requests.post('https://clowderframework.org/clowder/api/datasets/' + dataset_id + '/urls',\n",
    "                     data=payload,\n",
    "                     headers=headers,\n",
    "                     auth=auth)\n",
    "    print(r.status_code)\n",
    "    print(r.text)"
   ]
  },
  {
   "cell_type": "code",
   "execution_count": null,
   "metadata": {},
   "outputs": [],
   "source": [
    "upload_files_to_dataset(dataset_id = '5a8f37744f0cfe889c135099',\n",
    "                        url = 'http://illinois.edu/assets/img/branding/wordmark_vertical.png')"
   ]
  },
  {
   "cell_type": "markdown",
   "metadata": {},
   "source": [
    "### add tag to a file "
   ]
  },
  {
   "cell_type": "code",
   "execution_count": null,
   "metadata": {},
   "outputs": [],
   "source": [
    "def add_tags_to_file(file_id, tags):\n",
    "    '''\n",
    "    tags has to be a list\n",
    "    '''\n",
    "   \n",
    "    payload = json.dumps({'tags':tags})\n",
    "    headers = {'Content-type': 'application/json', 'accept': 'application/json'}\n",
    "    r = requests.post('https://clowderframework.org/clowder/api/files/' + file_id +'/tags',\n",
    "                     data=payload,\n",
    "                     headers=headers,\n",
    "                     auth=auth)\n",
    "    print(r.status_code)\n",
    "    print(r.text)"
   ]
  },
  {
   "cell_type": "code",
   "execution_count": null,
   "metadata": {},
   "outputs": [],
   "source": [
    "add_tags_to_file('5aac3abc4f0cc56d89e141ea',['tag1','tag2','tag3'])"
   ]
  },
  {
   "cell_type": "markdown",
   "metadata": {},
   "source": [
    "### add description to a file"
   ]
  },
  {
   "cell_type": "code",
   "execution_count": null,
   "metadata": {},
   "outputs": [],
   "source": [
    "def add_description_to_file(file_id, description):\n",
    "\n",
    "    payload = json.dumps({'description':description})\n",
    "    r = requests.put('https://clowderframework.org/clowder/api/files/' \n",
    "                     + file_id +'/updateDescription',\n",
    "                     data=payload,\n",
    "                     headers=headers,\n",
    "                     auth=auth)\n",
    "    print(r.status_code)\n",
    "    print(r.text)"
   ]
  },
  {
   "cell_type": "code",
   "execution_count": null,
   "metadata": {},
   "outputs": [],
   "source": [
    "add_description_to_file('5aac3abc4f0cc56d89e141ea','lalala')"
   ]
  },
  {
   "cell_type": "markdown",
   "metadata": {},
   "source": [
    "### add metadata to a file"
   ]
  },
  {
   "cell_type": "code",
   "execution_count": null,
   "metadata": {},
   "outputs": [],
   "source": [
    "def add_metadata_to_file(file_id, metadata):\n",
    "    '''\n",
    "     metadata can be any key-value pair.\n",
    "     a few fields that defaulted by clowder: Audience, CSDMS Standard Name, Date and Time, Funding Institution, \n",
    "        GeoJSON, Grant Number, ODM2 Variable Name, Primary/Initial Publication, Principal Investigator(s),\n",
    "        References, Related Publications, SAS Spatial Geocode, SAS Variable Name, Time Periods, Unit\n",
    "    '''\n",
    "    \n",
    "    payload = json.dumps(metadata)\n",
    "    headers = {'Content-type': 'application/json', 'accept': 'application/json'}\n",
    "    r = requests.post('https://clowderframework.org/clowder/api/files/' + file_id +'/metadata',\n",
    "                     data=payload,\n",
    "                     headers=headers,\n",
    "                     auth=auth)\n",
    "    print(r.status_code)\n",
    "    print(r.text)"
   ]
  },
  {
   "cell_type": "code",
   "execution_count": null,
   "metadata": {},
   "outputs": [],
   "source": [
    "add_metadata_to_file('5aac3abc4f0cc56d89e141ea', {'Audience':'chen wang','lalal':'lalalala'})"
   ]
  },
  {
   "cell_type": "markdown",
   "metadata": {},
   "source": [
    "### delete files (careful!)"
   ]
  },
  {
   "cell_type": "code",
   "execution_count": null,
   "metadata": {},
   "outputs": [],
   "source": [
    "def delete_file(file_id):\n",
    "    \n",
    "    r = requests.delete('https://clowderframework.org/clowder/api/files/'+ file_id, auth=auth)\n",
    "    print(r.status_code)\n",
    "    print(r.text)"
   ]
  },
  {
   "cell_type": "code",
   "execution_count": null,
   "metadata": {},
   "outputs": [],
   "source": [
    "delete_file('5aac3abc4f0cc56d89e141ea')"
   ]
  }
 ],
 "metadata": {
  "kernelspec": {
   "display_name": "Python 3",
   "language": "python",
   "name": "python3"
  },
  "language_info": {
   "codemirror_mode": {
    "name": "ipython",
    "version": 3
   },
   "file_extension": ".py",
   "mimetype": "text/x-python",
   "name": "python",
   "nbconvert_exporter": "python",
   "pygments_lexer": "ipython3",
   "version": "3.6.4"
  }
 },
 "nbformat": 4,
 "nbformat_minor": 2
}
